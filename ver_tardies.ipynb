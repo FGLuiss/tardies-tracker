{
 "cells": [
  {
   "cell_type": "code",
   "execution_count": 2,
   "id": "9ec855ee",
   "metadata": {},
   "outputs": [
    {
     "data": {
      "text/html": [
       "<div>\n",
       "<style scoped>\n",
       "    .dataframe tbody tr th:only-of-type {\n",
       "        vertical-align: middle;\n",
       "    }\n",
       "\n",
       "    .dataframe tbody tr th {\n",
       "        vertical-align: top;\n",
       "    }\n",
       "\n",
       "    .dataframe thead th {\n",
       "        text-align: right;\n",
       "    }\n",
       "</style>\n",
       "<table border=\"1\" class=\"dataframe\">\n",
       "  <thead>\n",
       "    <tr style=\"text-align: right;\">\n",
       "      <th></th>\n",
       "      <th>Fecha</th>\n",
       "      <th>Estudiante</th>\n",
       "      <th>Grado</th>\n",
       "      <th>Tipo de Permiso</th>\n",
       "      <th>Periodo del Permiso</th>\n",
       "      <th>Razón</th>\n",
       "      <th>¿Excusado?</th>\n",
       "      <th>Responsable</th>\n",
       "    </tr>\n",
       "  </thead>\n",
       "  <tbody>\n",
       "    <tr>\n",
       "      <th>0</th>\n",
       "      <td>13/Aug/25</td>\n",
       "      <td>Duque Cristian</td>\n",
       "      <td>12B</td>\n",
       "      <td>Late Arrival</td>\n",
       "      <td>Homeroom</td>\n",
       "      <td>El estudiante se levanto tarde</td>\n",
       "      <td>No</td>\n",
       "      <td>Tania Gonzalez</td>\n",
       "    </tr>\n",
       "  </tbody>\n",
       "</table>\n",
       "</div>"
      ],
      "text/plain": [
       "       Fecha      Estudiante Grado Tipo de Permiso Periodo del Permiso  \\\n",
       "0  13/Aug/25  Duque Cristian   12B    Late Arrival            Homeroom   \n",
       "\n",
       "                            Razón ¿Excusado?     Responsable  \n",
       "0  El estudiante se levanto tarde         No  Tania Gonzalez  "
      ]
     },
     "execution_count": 2,
     "metadata": {},
     "output_type": "execute_result"
    }
   ],
   "source": [
    "import pandas as pd\n",
    "\n",
    "# URL cruda del CSV en GitHub\n",
    "url = \"https://raw.githubusercontent.com/FGLuiss/tardies-tracker/main/tardies.csv\"\n",
    "df = pd.read_csv(url)\n",
    "\n",
    "# Mostrar los últimos tardies\n",
    "df[df[\"Tipo de Permiso\"] == \"Late Arrival\"].sort_values(\"Fecha\", ascending=False).head(10)\n"
   ]
  }
 ],
 "metadata": {
  "kernelspec": {
   "display_name": "Python 3",
   "language": "python",
   "name": "python3"
  },
  "language_info": {
   "codemirror_mode": {
    "name": "ipython",
    "version": 3
   },
   "file_extension": ".py",
   "mimetype": "text/x-python",
   "name": "python",
   "nbconvert_exporter": "python",
   "pygments_lexer": "ipython3",
   "version": "3.13.2"
  }
 },
 "nbformat": 4,
 "nbformat_minor": 5
}
